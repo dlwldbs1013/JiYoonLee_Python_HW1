{
 "cells": [
  {
   "cell_type": "markdown",
   "id": "f4d6f9a0",
   "metadata": {},
   "source": [
    "## 최대한 찾아서 해봤는데 두개를 합치진 못했어요"
   ]
  },
  {
   "cell_type": "code",
   "execution_count": 6,
   "id": "ece9c38e",
   "metadata": {},
   "outputs": [
    {
     "name": "stdout",
     "output_type": "stream",
     "text": [
      "선택하세요(!:추가,2:삭제,3:종료)-->1\n",
      "추가할 데이터: ㅇㅇ\n",
      "['ㅇㅇ']\n",
      "선택하세요(!:추가,2:삭제,3:종료)-->3\n",
      "['ㅇㅇ']\n"
     ]
    }
   ],
   "source": [
    "def add_data(friend):\n",
    "    katok.append(None)\n",
    "    kLen=len(katok)\n",
    "    katok[kLen-1]=friend\n",
    "    \n",
    "def insert_data(position,friend):\n",
    "    if position <0 or position > len(katok):\n",
    "        print(\"범위를 벗어났습니다\")\n",
    "        return\n",
    "    katok.append(None)\n",
    "    kLen=len(katok)\n",
    "    \n",
    "    for i in range(kLen-1,position,-1):\n",
    "        katok[i]=katok[i-1]\n",
    "        katok[i-1]=None\n",
    "        \n",
    "        katok[position]=friend\n",
    "        \n",
    "def delete_data(position):\n",
    "    if position<0 or position> len(katok):\n",
    "        print(\"삭제 범위를 벗어났습니다\")\n",
    "        return\n",
    "    \n",
    "    kLen=len(katok)\n",
    "    katok[position]=None\n",
    "    \n",
    "    for i in range(position+1,kLen):\n",
    "        katok[i-1]=katok[i]\n",
    "        katok[i]=None\n",
    "        \n",
    "    del(katok[kLen-1])\n",
    "    \n",
    "katok=[]\n",
    "select=-1\n",
    "\n",
    "\n",
    "if __name__==\"__main__\":\n",
    "    while(select !=3):\n",
    "        select = int(input(\"선택하세요(!:추가,2:삭제,3:종료)-->\"))\n",
    "        \n",
    "        if(select==1):\n",
    "            data=input(\"추가할 데이터: \")\n",
    "            add_data(data)\n",
    "            print(katok)\n",
    "            \n",
    "        elif(select==2):\n",
    "            pos=int(input(\"삭제할 위치: \"))\n",
    "            delete_data(pos)\n",
    "            print(katok)\n",
    "        elif(select==3):\n",
    "            print(katok)\n",
    "            exit\n",
    "        else:\n",
    "            print(\"1~3 중 하나를 입력하세요\")\n",
    "            continue"
   ]
  },
  {
   "cell_type": "code",
   "execution_count": 7,
   "id": "acd2b2f2",
   "metadata": {},
   "outputs": [
    {
     "name": "stdout",
     "output_type": "stream",
     "text": [
      "종료를 원하면 엔터를 눌러주세요\n",
      "추가할 친구--> 모몽\n",
      "추가할 데이터--> 22\n",
      "[('다현', 200), ('정연', 150), ('쯔위', 90), ('사나', 30), ('모몽', 22), ('지효', 15)]\n",
      "종료를 원하면 엔터를 눌러주세요\n",
      "추가할 친구--> \n"
     ]
    }
   ],
   "source": [
    "def input_data(friend, count):\n",
    "  if count <0:\n",
    "    print(\"연락 횟수는 0과 같거나 커야합니다.\\n다시 입력해주세요.\")\n",
    "    return \n",
    " \n",
    "  cnt = 0\n",
    "  lis.append(None) \n",
    "  list_len = len(lis)\n",
    " \n",
    "\n",
    "  for i in range(list_len-1,0,-1):\n",
    " \n",
    "    if count >= lis[i-1][1]:\n",
    "      lis[i]=lis[i-1]\n",
    "      lis[i-1] = None\n",
    "      cnt +=1\n",
    "    else : break\n",
    " \n",
    "  position = list_len-cnt-1\n",
    "  lis[position]=(friend,count)\n",
    " \n",
    "lis = [('다현',200),('정연',150),(\"쯔위\",90),('사나',30),('지효',15)]\n",
    "if __name__==\"__main__\":\n",
    "  while True:\n",
    "      print(\"종료를 원하면 엔터를 눌러주세요\")\n",
    "      name = input(\"추가할 친구--> \")\n",
    " \n",
    "      \n",
    "      if name == '':\n",
    "        break;\n",
    "      \n",
    "      cnt = int(input(\"추가할 데이터--> \"))\n",
    "      input_data(name, cnt)\n",
    "      print(lis)"
   ]
  },
  {
   "cell_type": "code",
   "execution_count": null,
   "id": "d7faf4e9",
   "metadata": {},
   "outputs": [],
   "source": []
  }
 ],
 "metadata": {
  "kernelspec": {
   "display_name": "Python 3 (ipykernel)",
   "language": "python",
   "name": "python3"
  },
  "language_info": {
   "codemirror_mode": {
    "name": "ipython",
    "version": 3
   },
   "file_extension": ".py",
   "mimetype": "text/x-python",
   "name": "python",
   "nbconvert_exporter": "python",
   "pygments_lexer": "ipython3",
   "version": "3.9.12"
  }
 },
 "nbformat": 4,
 "nbformat_minor": 5
}
